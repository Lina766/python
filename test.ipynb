{
 "cells": [
  {
   "cell_type": "code",
   "execution_count": 1,
   "metadata": {},
   "outputs": [
    {
     "name": "stdout",
     "output_type": "stream",
     "text": [
      "hello\n"
     ]
    }
   ],
   "source": [
    "print(\"hello\")"
   ]
  },
  {
   "cell_type": "code",
   "execution_count": 2,
   "metadata": {},
   "outputs": [
    {
     "name": "stdout",
     "output_type": "stream",
     "text": [
      "for is a python keyword\n",
      "geeksforgeeks is not a python keyword\n",
      "elif is a python keyword\n",
      "elseif is not a python keyword\n",
      "nikhil is not a python keyword\n",
      "assert is a python keyword\n",
      "shambhavi is not a python keyword\n",
      "True is a python keyword\n",
      "False is a python keyword\n",
      "akshat is not a python keyword\n",
      "akash is not a python keyword\n",
      "break is a python keyword\n",
      "ashty is not a python keyword\n",
      "lambda is a python keyword\n",
      "suman is not a python keyword\n",
      "try is a python keyword\n",
      "vaishnavi is not a python keyword\n"
     ]
    }
   ],
   "source": [
    "import keyword\n",
    "s = \"for\"\n",
    "s1 = \"geeksforgeeks\"\n",
    "s2 = \"elif\"\n",
    "s3 = \"elseif\"\n",
    "s4 = \"nikhil\"\n",
    "s5 = \"assert\"\n",
    "s6 = \"shambhavi\"\n",
    "s7 = \"True\"\n",
    "s8 = \"False\"\n",
    "s9 = \"akshat\"\n",
    "s10 = \"akash\"\n",
    "s11 = \"break\"\n",
    "s12 = \"ashty\"\n",
    "s13 = \"lambda\"\n",
    "s14 = \"suman\"\n",
    "s15 = \"try\"\n",
    "s16 = \"vaishnavi\"\n",
    "if keyword.iskeyword(s):\n",
    "        print ( s + \" is a python keyword\")\n",
    "else :  print ( s + \" is not a python keyword\")\n",
    " \n",
    "if keyword.iskeyword(s1):\n",
    "        print ( s1 + \" is a python keyword\")\n",
    "else :  print ( s1 + \" is not a python keyword\")\n",
    " \n",
    "if keyword.iskeyword(s2):\n",
    "        print ( s2 + \" is a python keyword\")\n",
    "else :  print ( s2 + \" is not a python keyword\")\n",
    " \n",
    "if keyword.iskeyword(s3):\n",
    "        print ( s3 + \" is a python keyword\")\n",
    "else :  print ( s3 + \" is not a python keyword\")\n",
    " \n",
    "if keyword.iskeyword(s4):\n",
    "        print ( s4 + \" is a python keyword\")\n",
    "else :  print ( s4 + \" is not a python keyword\")\n",
    " \n",
    "if keyword.iskeyword(s5):\n",
    "        print ( s5 + \" is a python keyword\")\n",
    "else :  print ( s5 + \" is not a python keyword\")\n",
    " \n",
    "if keyword.iskeyword(s6):\n",
    "        print ( s6 + \" is a python keyword\")\n",
    "else :  print ( s6 + \" is not a python keyword\")\n",
    " \n",
    "if keyword.iskeyword(s7):\n",
    "        print ( s7 + \" is a python keyword\")\n",
    "else :  print ( s7 + \" is not a python keyword\")\n",
    " \n",
    "if keyword.iskeyword(s8):\n",
    "        print ( s8 + \" is a python keyword\")\n",
    "else :  print ( s8 + \" is not a python keyword\")\n",
    " \n",
    "if keyword.iskeyword(s9):\n",
    "        print ( s9 + \" is a python keyword\")\n",
    "else :  print ( s9 + \" is not a python keyword\")\n",
    " \n",
    "if keyword.iskeyword(s10):\n",
    "        print ( s10 + \" is a python keyword\")\n",
    "else :  print ( s10 + \" is not a python keyword\")\n",
    " \n",
    "if keyword.iskeyword(s11):\n",
    "        print ( s11 + \" is a python keyword\")\n",
    "else :  print ( s11 + \" is not a python keyword\")\n",
    " \n",
    "if keyword.iskeyword(s12):\n",
    "        print ( s12 + \" is a python keyword\")\n",
    "else :  print ( s12 + \" is not a python keyword\")\n",
    " \n",
    "if keyword.iskeyword(s13):\n",
    "        print ( s13 + \" is a python keyword\")\n",
    "else :  print ( s13 + \" is not a python keyword\")\n",
    " \n",
    "if keyword.iskeyword(s14):\n",
    "        print ( s14 + \" is a python keyword\")\n",
    "else :  print ( s14 + \" is not a python keyword\")\n",
    " \n",
    "if keyword.iskeyword(s15):\n",
    "        print ( s15 + \" is a python keyword\")\n",
    "else :  print ( s15 + \" is not a python keyword\")\n",
    " \n",
    "if keyword.iskeyword(s16):\n",
    "        print ( s16 + \" is a python keyword\")\n",
    "else :  print ( s16 + \" is not a python keyword\")"
   ]
  },
  {
   "cell_type": "code",
   "execution_count": 3,
   "metadata": {},
   "outputs": [
    {
     "name": "stdout",
     "output_type": "stream",
     "text": [
      "The list of keywords is : \n",
      "['False', 'None', 'True', 'and', 'as', 'assert', 'break', 'class', 'continue', 'def', 'del', 'elif', 'else', 'except', 'finally', 'for', 'from', 'global', 'if', 'import', 'in', 'is', 'lambda', 'nonlocal', 'not', 'or', 'pass', 'raise', 'return', 'try', 'while', 'with', 'yield']\n"
     ]
    }
   ],
   "source": [
    "import keyword\n",
    "print (\"The list of keywords is : \")\n",
    "print (keyword.kwlist)"
   ]
  },
  {
   "cell_type": "code",
   "execution_count": 4,
   "metadata": {},
   "outputs": [
    {
     "name": "stdout",
     "output_type": "stream",
     "text": [
      "False\n",
      "True\n",
      "True\n",
      "False\n",
      "False\n"
     ]
    }
   ],
   "source": [
    "print (None == 0)\n",
    "x = None\n",
    "y = None\n",
    "print (x == y)\n",
    "print (True or False)\n",
    "print (False and True)\n",
    "print (not True)"
   ]
  },
  {
   "cell_type": "code",
   "execution_count": 6,
   "metadata": {
    "scrolled": true
   },
   "outputs": [
    {
     "name": "stdout",
     "output_type": "stream",
     "text": [
      "The list before deleting any value\n",
      "[1, 2, 3]\n",
      "The list after deleting 2nd element\n",
      "[1, 3]\n"
     ]
    },
    {
     "ename": "AssertionError",
     "evalue": "5 is not smaller than 3",
     "output_type": "error",
     "traceback": [
      "\u001b[0;31m---------------------------------------------------------------------------\u001b[0m",
      "\u001b[0;31mAssertionError\u001b[0m                            Traceback (most recent call last)",
      "\u001b[0;32m<ipython-input-6-d22f886733d1>\u001b[0m in \u001b[0;36m<module>\u001b[0;34m()\u001b[0m\n\u001b[1;32m     16\u001b[0m \u001b[0;31m# demonstrating use of assert\u001b[0m\u001b[0;34m\u001b[0m\u001b[0;34m\u001b[0m\u001b[0m\n\u001b[1;32m     17\u001b[0m \u001b[0;31m# prints AssertionError\u001b[0m\u001b[0;34m\u001b[0m\u001b[0;34m\u001b[0m\u001b[0m\n\u001b[0;32m---> 18\u001b[0;31m \u001b[0;32massert\u001b[0m \u001b[0;36m5\u001b[0m \u001b[0;34m<\u001b[0m \u001b[0;36m3\u001b[0m\u001b[0;34m,\u001b[0m \u001b[0;34m\"5 is not smaller than 3\"\u001b[0m\u001b[0;34m\u001b[0m\u001b[0m\n\u001b[0m",
      "\u001b[0;31mAssertionError\u001b[0m: 5 is not smaller than 3"
     ]
    }
   ],
   "source": [
    " \n",
    "# initialising list \n",
    "a = [1, 2, 3]\n",
    " \n",
    "# printing list before deleting any value\n",
    "print (\"The list before deleting any value\")\n",
    "print (a)\n",
    " \n",
    "# using del to delete 2nd element of list\n",
    "del a[1]\n",
    " \n",
    "# printing list after deleting 2nd element\n",
    "print (\"The list after deleting 2nd element\")\n",
    "print (a)\n",
    " \n",
    "# demonstrating use of assert\n",
    "# prints AssertionError\n",
    "assert 5 < 3, \"5 is not smaller than 3\""
   ]
  },
  {
   "cell_type": "code",
   "execution_count": 7,
   "metadata": {},
   "outputs": [
    {
     "name": "stdout",
     "output_type": "stream",
     "text": [
      "s is part of geeksforgeeks\n",
      "g e e k s f o r g e e k s \r\n",
      "True\n",
      "False\n"
     ]
    }
   ],
   "source": [
    "# Python code to demonstrate working of\n",
    "# in and is\n",
    " \n",
    "# using \"in\" to check \n",
    "if 's' in 'geeksforgeeks':\n",
    "       print (\"s is part of geeksforgeeks\")\n",
    "else : print (\"s is not part of geeksforgeeks\")\n",
    " \n",
    "# using \"in\" to loop through\n",
    "for i in 'geeksforgeeks':\n",
    "    print (i,end=\" \")\n",
    " \n",
    "print (\"\\r\")\n",
    "     \n",
    "# using is to check object identity\n",
    "# string is immutable( cannot be changed once alloted)\n",
    "# hence occupy same memory location\n",
    "print (' ' is ' ')\n",
    " \n",
    "# using is to check object identity\n",
    "# dictionary is mutable( can be changed once alloted)\n",
    "# hence occupy different memory location\n",
    "print ({} is {})"
   ]
  },
  {
   "cell_type": "code",
   "execution_count": 13,
   "metadata": {},
   "outputs": [
    {
     "name": "stdout",
     "output_type": "stream",
     "text": [
      "x1: 1\n",
      "y1: 2\n",
      "x2: 3\n",
      "y2: 4\n",
      "r1: 5\n",
      "r2: 6\n",
      "distance while repulsion = 13.82842712474619\n"
     ]
    }
   ],
   "source": [
    "import math\n",
    "x1 = input(\"x1: \")  \n",
    "y1 = input(\"y1: \")\n",
    "x2 = input(\"x2: \")\n",
    "y2 = input(\"y2: \")\n",
    "r1 = input(\"r1: \")\n",
    "r2 = input(\"r2: \")\n",
    "print(\"distance while repulsion =\", math.sqrt((int(x1)-int(x2))*(int(x1)-int(x2))+(int(y1)-int(y2))*(int(y1)-int(y2)))+float(r1)+float(r2))"
   ]
  },
  {
   "cell_type": "code",
   "execution_count": 16,
   "metadata": {},
   "outputs": [
    {
     "name": "stdout",
     "output_type": "stream",
     "text": [
      "5\n",
      "0\n",
      "1\n",
      "4\n",
      "9\n",
      "16\n"
     ]
    }
   ],
   "source": [
    " n = int(input())\n",
    "for i in range(0,n):\n",
    "    print(i*i)"
   ]
  },
  {
   "cell_type": "code",
   "execution_count": 21,
   "metadata": {},
   "outputs": [
    {
     "name": "stdout",
     "output_type": "stream",
     "text": [
      "1990\n",
      "False\n"
     ]
    }
   ],
   "source": [
    "def is_leap(year):\n",
    "    leap = False\n",
    "    \n",
    "    # Write your logic here\n",
    "    if year%4==0 and year%100!=0:\n",
    "        leap = True\n",
    "    elif year%400==0:\n",
    "        leap = True\n",
    "    return leap\n",
    "year = int(input())\n",
    "print(is_leap(year))"
   ]
  },
  {
   "cell_type": "code",
   "execution_count": 23,
   "metadata": {},
   "outputs": [
    {
     "name": "stdout",
     "output_type": "stream",
     "text": [
      "4\n",
      "1234"
     ]
    }
   ],
   "source": [
    "n = int(input())\n",
    "for i in range(1,n+1):\n",
    "    print(i, end=\"\")"
   ]
  },
  {
   "cell_type": "code",
   "execution_count": 27,
   "metadata": {},
   "outputs": [
    {
     "name": "stdout",
     "output_type": "stream",
     "text": [
      "19\n",
      "Weird\n"
     ]
    }
   ],
   "source": [
    "import math\n",
    "import os\n",
    "import random\n",
    "import re\n",
    "import sys\n",
    "N = int(input())\n",
    "if N%2==1:\n",
    "    print('Weird')\n",
    "elif N%2==0 and N>=2 and N<=5:\n",
    "    print('Not Weird')\n",
    "elif N%2==0 and N>=6 and N<=20:\n",
    "    print('Weird')\n",
    "elif N%2==0 and N>20:\n",
    "    print('Not Weird')"
   ]
  },
  {
   "cell_type": "code",
   "execution_count": 37,
   "metadata": {},
   "outputs": [
    {
     "name": "stdout",
     "output_type": "stream",
     "text": [
      "2\n",
      "2\n",
      "2\n",
      "3\n",
      "[[0, 0, 0], [0, 0, 1], [0, 0, 2], [0, 1, 0], [0, 1, 1], [0, 2, 0], [0, 2, 2], [1, 0, 0], [1, 0, 1], [1, 1, 0], [1, 1, 2], [1, 2, 1], [1, 2, 2], [2, 0, 0], [2, 0, 2], [2, 1, 1], [2, 1, 2], [2, 2, 0], [2, 2, 1], [2, 2, 2]]\n"
     ]
    }
   ],
   "source": [
    "x = int(input())\n",
    "y = int(input())\n",
    "z = int(input())\n",
    "n = int(input())\n",
    "Arr=[]\n",
    "for i in range(0,x+1):\n",
    "    for  j in range(0,y+1):\n",
    "        for k in range(0,z+1):\n",
    "            if(i+j+k!=n):\n",
    "                arr=[]\n",
    "                arr.append(i)\n",
    "                arr.append(j)\n",
    "                arr.append(k)\n",
    "                Arr.append(arr)\n",
    "print(Arr)"
   ]
  },
  {
   "cell_type": "code",
   "execution_count": 65,
   "metadata": {},
   "outputs": [
    {
     "name": "stdout",
     "output_type": "stream",
     "text": [
      "5\n",
      "2 3 6 6 5\n",
      "5\n"
     ]
    }
   ],
   "source": [
    "n = int(input())\n",
    "arr = map(int, input().split())\n",
    "Max = -100\n",
    "RS = -100\n",
    "mylist = list(arr)\n",
    "for i in range(0,n):\n",
    "    if mylist[i]>Max:\n",
    "        RS=Max\n",
    "        Max=mylist[i]\n",
    "    elif mylist[i]<Max and mylist[i]>RS:\n",
    "        RS=mylist[i]\n",
    "print(RS)\n",
    "        "
   ]
  },
  {
   "cell_type": "code",
   "execution_count": 44,
   "metadata": {},
   "outputs": [
    {
     "name": "stdout",
     "output_type": "stream",
     "text": [
      "1 2 3 \n",
      "[1, 2, 3]\n"
     ]
    }
   ],
   "source": [
    "arr = map(int, input().split())\n",
    "print(list(arr))"
   ]
  },
  {
   "cell_type": "code",
   "execution_count": 60,
   "metadata": {},
   "outputs": [
    {
     "name": "stdout",
     "output_type": "stream",
     "text": [
      "2 \n",
      "3 4\n",
      "3\n",
      "4\n"
     ]
    }
   ],
   "source": [
    "n = int(input())\n",
    "arr = map(int, input().split())\n",
    "Max = -100\n",
    "RS = -100\n",
    "mylist = list(arr)\n",
    "# print(mylist)\n",
    "for i in range(0,n):\n",
    "#     print(i)\n",
    "    print(mylist[i])\n"
   ]
  },
  {
   "cell_type": "code",
   "execution_count": 99,
   "metadata": {},
   "outputs": [
    {
     "name": "stdout",
     "output_type": "stream",
     "text": [
      "5\n",
      "Harry\n",
      "37.21\n",
      "Berry\n",
      "37.21\n",
      "w\n",
      "37.2\n",
      "y\n",
      "41\n",
      "z\n",
      "39\n",
      "Berry\n",
      "Harry\n"
     ]
    }
   ],
   "source": [
    "\n",
    "Arr = []\n",
    "i = 1\n",
    "student=[]\n",
    "for _ in range(int(input())):\n",
    "        name = input()\n",
    "        score = float(input())\n",
    "        arr = (score,name)\n",
    "        Arr.append(arr)\n",
    "Arr.sort(key = lambda _:_[0])\n",
    "while Arr[0][0]==Arr[i][0]:\n",
    "    i=i+1\n",
    "student.append(Arr[i][1])\n",
    "t=i+1\n",
    "while t<len(Arr) and Arr[i][0]==Arr[t][0]:\n",
    "    student.append(Arr[t][1])\n",
    "    t=t+1\n",
    "student.sort()\n",
    "n=len(student)\n",
    "for i in range(n):\n",
    "    print(student[i])\n",
    "\n",
    "\n",
    "\n",
    "\n",
    "\n",
    "    \n",
    "    "
   ]
  },
  {
   "cell_type": "code",
   "execution_count": 87,
   "metadata": {},
   "outputs": [
    {
     "name": "stdout",
     "output_type": "stream",
     "text": [
      "2\n"
     ]
    }
   ],
   "source": [
    "a=(1,2,'abab')\n",
    "print(a[1])"
   ]
  },
  {
   "cell_type": "code",
   "execution_count": 78,
   "metadata": {},
   "outputs": [
    {
     "data": {
      "text/plain": [
       "tuple"
      ]
     },
     "execution_count": 78,
     "metadata": {},
     "output_type": "execute_result"
    }
   ],
   "source": [
    "type(a)\n"
   ]
  },
  {
   "cell_type": "code",
   "execution_count": 72,
   "metadata": {},
   "outputs": [
    {
     "data": {
      "text/plain": [
       "(1, 2, 'abab')"
      ]
     },
     "execution_count": 72,
     "metadata": {},
     "output_type": "execute_result"
    }
   ],
   "source": [
    "a\n"
   ]
  },
  {
   "cell_type": "code",
   "execution_count": 109,
   "metadata": {},
   "outputs": [
    {
     "name": "stdout",
     "output_type": "stream",
     "text": [
      "1\n",
      "jin 99.4 90.3 98.5\n",
      "jin\n",
      "96.07\n"
     ]
    }
   ],
   "source": [
    "n = int(input())\n",
    "student_marks = {}\n",
    "for _ in range(n):\n",
    "    name, *line = input().split()\n",
    "    scores = list(map(float, line))\n",
    "    student_marks[name] = scores\n",
    "query_name = input()\n",
    "sum=0\n",
    "for i in range(3):\n",
    "    sum=sum+student_marks[query_name][i]\n",
    "print('%.2f'%(sum/3))"
   ]
  },
  {
   "cell_type": "code",
   "execution_count": 119,
   "metadata": {},
   "outputs": [
    {
     "name": "stdout",
     "output_type": "stream",
     "text": [
      "n is a perfect square\n",
      "\n"
     ]
    }
   ],
   "source": [
    "def zero():\n",
    "    print (\"You typed zero.\\n\")\n",
    "\n",
    "def sqr():\n",
    "    print (\"n is a perfect square\\n\")\n",
    "\n",
    "\n",
    "\n",
    "# map the inputs to the function blocks\n",
    "options = {0 : zero,\n",
    "           1 : sqr,\n",
    "}\n",
    "options[1]()"
   ]
  },
  {
   "cell_type": "code",
   "execution_count": 172,
   "metadata": {},
   "outputs": [
    {
     "name": "stdout",
     "output_type": "stream",
     "text": [
      "12\n",
      "insert 0 5\n",
      "insert 1 10\n",
      "insert 0 6\n",
      "print\n",
      "remove 6\n",
      "append 9\n",
      "append 1\n",
      "sort\n",
      "print\n",
      "pop\n",
      "reverse\n",
      "print\n",
      "[6, 5, 10]\n",
      "[1, 5, 9, 10]\n",
      "[9, 5, 1]\n"
     ]
    }
   ],
   "source": [
    "N = int(input())\n",
    "Arr = []\n",
    "result = []\n",
    "def insert(i,e):\n",
    "    Arr.insert(i,e)\n",
    "def printlist():\n",
    "    arr=Arr[:]\n",
    "    result.append(arr)\n",
    "def remove(e):\n",
    "    Arr.remove(e)\n",
    "def append(e):\n",
    "    Arr.append(e)\n",
    "def sort():\n",
    "    Arr.sort()\n",
    "def pop():\n",
    "    Arr.pop()\n",
    "def reverse():\n",
    "    Arr.reverse()\n",
    "    \n",
    "    \n",
    "options = {'insert' : insert, \n",
    "           'print' : printlist,\n",
    "           'remove' : remove,\n",
    "           'append' : append,\n",
    "           'sort' : sort,\n",
    "           'pop' : pop,\n",
    "           'reverse' : reverse,\n",
    "}\n",
    "\n",
    "for i in range(N):\n",
    "    op, *command = input().split()\n",
    "    Command = list(command)\n",
    "    if op == 'insert':\n",
    "        options[op](int(Command[0]),int(Command[1]))\n",
    "    elif op == 'print':\n",
    "        options[op]()\n",
    "    elif op == 'remove':\n",
    "        options[op](int(Command[0]))\n",
    "    elif op == 'append':\n",
    "        options[op](int(Command[0]))\n",
    "    elif op == 'sort':\n",
    "        options[op]()\n",
    "    elif op == 'pop':\n",
    "        options[op]()\n",
    "    elif op == 'reverse':\n",
    "        options[op]()\n",
    "for i in range(len(result)):\n",
    "    print(result[i])\n",
    "            \n",
    "        \n",
    "    "
   ]
  },
  {
   "cell_type": "markdown",
   "metadata": {},
   "source": [
    "print"
   ]
  },
  {
   "cell_type": "code",
   "execution_count": 161,
   "metadata": {},
   "outputs": [
    {
     "name": "stdout",
     "output_type": "stream",
     "text": [
      "[1, 2]\n"
     ]
    }
   ],
   "source": [
    "a=[1,2]\n",
    "b = a[:]\n",
    "a.append(0)\n",
    "print(b)\n"
   ]
  },
  {
   "cell_type": "code",
   "execution_count": 171,
   "metadata": {},
   "outputs": [
    {
     "name": "stdout",
     "output_type": "stream",
     "text": [
      "s 2\n"
     ]
    },
    {
     "data": {
      "text/plain": [
       "'2'"
      ]
     },
     "execution_count": 171,
     "metadata": {},
     "output_type": "execute_result"
    }
   ],
   "source": [
    "op, command = input().split()\n",
    "command"
   ]
  },
  {
   "cell_type": "code",
   "execution_count": 185,
   "metadata": {},
   "outputs": [
    {
     "name": "stdout",
     "output_type": "stream",
     "text": [
      "2\n",
      "1 2\n"
     ]
    },
    {
     "data": {
      "text/plain": [
       "3713081631934410656"
      ]
     },
     "execution_count": 185,
     "metadata": {},
     "output_type": "execute_result"
    }
   ],
   "source": [
    "n = int(input())\n",
    "integer_list = map(int, input().split())\n",
    "t=tuple(integer_list)\n",
    "hash(t)"
   ]
  },
  {
   "cell_type": "code",
   "execution_count": 227,
   "metadata": {},
   "outputs": [
    {
     "name": "stdout",
     "output_type": "stream",
     "text": [
      "[2, 7, 11, 15]\n",
      "9\n",
      "[0, 1]\n"
     ]
    }
   ],
   "source": [
    "import re\n",
    "class Solution:\n",
    "    def twoSum(self, nums, target):\n",
    "        \"\"\"\n",
    "        :type nums: List[int]\n",
    "        :type target: int\n",
    "        :rtype: List[int],\n",
    "        \"\"\"\n",
    "        for i in range(len(nums)):\n",
    "            if i<len(nums)-1:\n",
    "                for j in range(i+1,len(nums)):\n",
    "                    if nums[i]+nums[j]==target:\n",
    "                        result = [i,j]\n",
    "                        print(result)\n",
    "nums = input()\n",
    "b = \"[]\"\n",
    "for char in b:\n",
    "    nums=nums.replace(char,\"\")\n",
    "nums = list(map(int,nums.split(',')))\n",
    "target = int(input())\n",
    "Solution().twoSum(nums, target)"
   ]
  },
  {
   "cell_type": "code",
   "execution_count": 271,
   "metadata": {},
   "outputs": [
    {
     "name": "stdout",
     "output_type": "stream",
     "text": [
      "-120\n"
     ]
    },
    {
     "data": {
      "text/plain": [
       "-21"
      ]
     },
     "execution_count": 271,
     "metadata": {},
     "output_type": "execute_result"
    }
   ],
   "source": [
    "class Solution:\n",
    "    å\n",
    "    def overflow(self, x):\n",
    "        if x>(2**31-1) or x<-2**31:\n",
    "            return True\n",
    "    \n",
    "    def string_reverse(self,string):  \n",
    "        return string[::-1]  \n",
    "    \n",
    "    def reverse(self, x):\n",
    "        \"\"\"\n",
    "        :type x: int\n",
    "        :rtype: int\n",
    "        \"\"\"  \n",
    "        self.overflow(x)\n",
    "        if x>0: \n",
    "            s = str(x)\n",
    "            t=int(self.string_reverse(s))\n",
    "            if self.overflow(t):\n",
    "                return 0\n",
    "            else:\n",
    "                return t\n",
    "        else:\n",
    "            s = str(-x)\n",
    "            t = int(self.string_reverse(s))\n",
    "            if self.overflow(-t):\n",
    "                return 0\n",
    "            else:\n",
    "                return -t\n",
    "x = int(input())\n",
    "Solution().reverse(x)"
   ]
  },
  {
   "cell_type": "code",
   "execution_count": 240,
   "metadata": {},
   "outputs": [
    {
     "name": "stdout",
     "output_type": "stream",
     "text": [
      "2147483647\n"
     ]
    }
   ],
   "source": [
    "print(2**31-1)"
   ]
  },
  {
   "cell_type": "code",
   "execution_count": 288,
   "metadata": {},
   "outputs": [
    {
     "name": "stdout",
     "output_type": "stream",
     "text": [
      "qdasd\n",
      "as\n"
     ]
    },
    {
     "data": {
      "text/plain": [
       "2"
      ]
     },
     "execution_count": 288,
     "metadata": {},
     "output_type": "execute_result"
    }
   ],
   "source": [
    "class Solution:\n",
    "    def strStr(self, haystack, needle):\n",
    "        \"\"\"\n",
    "        :type haystack: str\n",
    "        :type needle: str\n",
    "        :rtype: int\n",
    "        \"\"\"\n",
    "        if needle == '':\n",
    "            return 0\n",
    "        index = 0\n",
    "        if needle in haystack:\n",
    "            c = needle[0]\n",
    "            for ch in haystack:\n",
    "                if ch == c:\n",
    "                    if haystack[index:index+len(needle)] == needle:\n",
    "                        return index\n",
    "                index += 1\n",
    "        else:\n",
    "            return -1\n",
    "a = input()\n",
    "b = input()\n",
    "Solution().strStr(a,b)"
   ]
  },
  {
   "cell_type": "code",
   "execution_count": 301,
   "metadata": {},
   "outputs": [
    {
     "name": "stdout",
     "output_type": "stream",
     "text": [
      "\"A man, a plan, a canal: Panama\"\n"
     ]
    },
    {
     "data": {
      "text/plain": [
       "True"
      ]
     },
     "execution_count": 301,
     "metadata": {},
     "output_type": "execute_result"
    }
   ],
   "source": [
    "import re\n",
    "class Solution:\n",
    "    def isPalindrome(self, s):\n",
    "        \"\"\"\n",
    "        :type s: str\n",
    "        :rtype: bool\n",
    "        \"\"\"\n",
    "        \n",
    "        s = re.sub(r'\\W+', '', s)\n",
    "        s = s.lower()\n",
    "        \n",
    "        l = int(len(s)/2)\n",
    "        for i in range(l):\n",
    "            if s[i]!=s[len(s)-1-i]:\n",
    "                return False\n",
    "        return True\n",
    "        \n",
    "s = input()\n",
    "Solution().isPalindrome(s)"
   ]
  },
  {
   "cell_type": "code",
   "execution_count": 302,
   "metadata": {},
   "outputs": [
    {
     "data": {
      "text/plain": [
       "3"
      ]
     },
     "execution_count": 302,
     "metadata": {},
     "output_type": "execute_result"
    }
   ],
   "source": [
    "min(12,3)"
   ]
  },
  {
   "cell_type": "code",
   "execution_count": 326,
   "metadata": {},
   "outputs": [
    {
     "name": "stdout",
     "output_type": "stream",
     "text": [
      "4\n",
      "3 0 8 4\n",
      "2 4 5 7\n",
      "9 2 6 3\n",
      "0 3 1 0\n",
      "[[3, 0, 8, 4], [2, 4, 5, 7], [9, 2, 6, 3], [0, 3, 1, 0]]\n",
      "0\n",
      "1\n",
      "2\n",
      "3\n"
     ]
    },
    {
     "data": {
      "text/plain": [
       "35"
      ]
     },
     "execution_count": 326,
     "metadata": {},
     "output_type": "execute_result"
    }
   ],
   "source": [
    "class Solution:\n",
    "    def maxIncreaseKeepingSkyline(self, grid):\n",
    "        \"\"\"\n",
    "        :type grid: List[List[int]]\n",
    "        :rtype: int\n",
    "        \"\"\"\n",
    "        maxTB = [1]*len(grid)\n",
    "        maxLR = [1]*len(grid)\n",
    "        for i in range(len(grid)):\n",
    "            maxTB[i] = grid[0][i]\n",
    "            maxLR[i] = grid[i][0]\n",
    "       \n",
    "            for j in range(len(grid)):\n",
    "                if grid[j][i] > maxTB[i]:\n",
    "                    maxTB[i] = grid[j][i]\n",
    "                if grid[i][j] > maxLR[i]:\n",
    "                    maxLR[i] = grid[i][j]\n",
    "        sum = 0\n",
    "        for i in range(len(grid)):\n",
    "            for j in range(len(grid)):\n",
    "                m = min(maxTB[j],maxLR[i])\n",
    "                if grid[i][j] < m:\n",
    "                    sum += m-grid[i][j]\n",
    "        return sum\n",
    "    \n",
    "n=int(input())\n",
    "grid=[[0]*n]*n\n",
    "for i in range(n):\n",
    "    grid[i]=input().split(' ')\n",
    "for i in range(len(grid)):\n",
    "    grid[i] = list(map(int, grid[i]))\n",
    "print(grid)\n",
    "Solution().maxIncreaseKeepingSkyline(grid)\n"
   ]
  },
  {
   "cell_type": "code",
   "execution_count": 43,
   "metadata": {},
   "outputs": [
    {
     "name": "stdout",
     "output_type": "stream",
     "text": [
      "-2147483648\n",
      "-1\n",
      "2147483647 2\n",
      "2147483645 4\n",
      "2147483641 8\n",
      "2147483633 16\n",
      "2147483617 32\n",
      "2147483585 64\n",
      "2147483521 128\n",
      "2147483393 256\n",
      "2147483137 512\n",
      "2147482625 1024\n",
      "2147481601 2048\n",
      "2147479553 4096\n",
      "2147475457 8192\n",
      "2147467265 16384\n",
      "2147450881 32768\n",
      "2147418113 65536\n",
      "2147352577 131072\n",
      "2147221505 262144\n",
      "2146959361 524288\n",
      "2146435073 1048576\n",
      "2145386497 2097152\n",
      "2143289345 4194304\n",
      "2139095041 8388608\n",
      "2130706433 16777216\n",
      "2113929217 33554432\n",
      "2080374785 67108864\n",
      "2013265921 134217728\n",
      "1879048193 268435456\n",
      "1610612737 536870912\n",
      "1073741825 1073741824\n",
      "1 2147483648\n",
      "1 1.0\n"
     ]
    },
    {
     "data": {
      "text/plain": [
       "2147483647"
      ]
     },
     "execution_count": 43,
     "metadata": {},
     "output_type": "execute_result"
    }
   ],
   "source": [
    "class Solution:\n",
    "    def divide(self, dividend, divisor):\n",
    "        \"\"\"\n",
    "        :type dividend: int\n",
    "        :type divisor: int\n",
    "        :rtype: int\n",
    "        \"\"\"\n",
    "        if divisor == 0:\n",
    "            divisor += 1\n",
    "        if dividend < -2**31 or dividend > 2**31-1 or divisor < -2**31 or divisor > 2**31-1 :\n",
    "            return 2**31-1\n",
    "        if dividend == 0:\n",
    "            return 0 \n",
    "        else:\n",
    "            flag = dividend * divisor\n",
    "            flag = 1 if flag > 0 else -1\n",
    "            dividend = abs(dividend)\n",
    "            divisor = abs(divisor)\n",
    "            result = 0\n",
    "            c = 1\n",
    "            con = divisor\n",
    "            if dividend > 0 and divisor > 0:\n",
    "                while dividend - divisor > 0:\n",
    "                    result += c\n",
    "                    c *= 2\n",
    "                    dividend = dividend - divisor\n",
    "                    divisor *= 2\n",
    "                    print(dividend, divisor)\n",
    "                if dividend - divisor == 0:\n",
    "                    result += c\n",
    "                    if int(flag*result) < -2**31 or int(flag*result) > 2**31-1:\n",
    "                        return 2**31-1\n",
    "                    else:\n",
    "                        return int(flag*result)\n",
    "                else :\n",
    "                    while dividend - divisor < 0:\n",
    "                        divisor /= 2\n",
    "                        c /= 2\n",
    "                    while dividend - divisor > 0 or dividend - divisor == 0:\n",
    "                        print(dividend, divisor)\n",
    "                        result += c\n",
    "                        c /= 2\n",
    "                        dividend = dividend - divisor\n",
    "                        if dividend < con:\n",
    "                            break\n",
    "                        divisor /= 2 \n",
    "                        while dividend - divisor < 0:\n",
    "                            divisor /= 2\n",
    "                            c /= 2\n",
    "                    if int(flag*result) < -2**31 or int(flag*result) > 2**31-1:\n",
    "                        return 2**31-1\n",
    "                    else:\n",
    "                        return int(flag*result)\n",
    "            \n",
    "                \n",
    "dividend = int(input())\n",
    "divisor = int(input())\n",
    "Solution().divide(dividend, divisor)"
   ]
  },
  {
   "cell_type": "code",
   "execution_count": 14,
   "metadata": {},
   "outputs": [
    {
     "data": {
      "text/plain": [
       "-2147483648"
      ]
     },
     "execution_count": 14,
     "metadata": {},
     "output_type": "execute_result"
    }
   ],
   "source": [
    "-2**31\n"
   ]
  },
  {
   "cell_type": "code",
   "execution_count": 39,
   "metadata": {},
   "outputs": [
    {
     "data": {
      "text/plain": [
       "165191049"
      ]
     },
     "execution_count": 39,
     "metadata": {},
     "output_type": "execute_result"
    }
   ],
   "source": [
    "2147483643//13\n"
   ]
  },
  {
   "cell_type": "code",
   "execution_count": null,
   "metadata": {},
   "outputs": [],
   "source": []
  }
 ],
 "metadata": {
  "kernelspec": {
   "display_name": "Python 3",
   "language": "python",
   "name": "python3"
  },
  "language_info": {
   "codemirror_mode": {
    "name": "ipython",
    "version": 3
   },
   "file_extension": ".py",
   "mimetype": "text/x-python",
   "name": "python",
   "nbconvert_exporter": "python",
   "pygments_lexer": "ipython3",
   "version": "3.6.5"
  }
 },
 "nbformat": 4,
 "nbformat_minor": 2
}
